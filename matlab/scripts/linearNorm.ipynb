{
 "cells": [
  {
   "cell_type": "code",
   "execution_count": 1,
   "metadata": {},
   "outputs": [],
   "source": [
    "%% Linear norm calculation\n",
    "% This script is meant to calculate/estimate the operator norm of \n",
    "%    L_s^I P_{>} (T - T_s) : h^2 --> h^2\n",
    "%\n",
    "% A simplified analytical matrix A_s is constructed by noting the\n",
    "% dominance of near constant diagonal and some superdiagonal terms of\n",
    "% A. A small number of elements on top left corner are preserved.\n",
    "\n",
    "clear;\n",
    "%% Initialize: adding path (at beginning of script)\n",
    "added_path = ['../functions']; \n",
    "addpath(added_path);"
   ]
  },
  {
   "cell_type": "code",
   "execution_count": 2,
   "metadata": {},
   "outputs": [],
   "source": [
    "%% Setting parameters\n",
    "rho = 0.90;\n",
    "kk = 16; % size of (1,1)-block\n",
    "ld = 0;  % lower bound of diagonal index\n",
    "ud = 5;  % uppder bound of diagonal index\n",
    "n = 256; % size of matrix A\n",
    "\n",
    "%% for interactive data selection\n",
    "% fprintf('\\n Specify rho:\\n')\n",
    "% rho = input(' rho = ');\n",
    "% fprintf('\\n For construction of a preconditioner, specify:\\n')\n",
    "% kk = input(' K (size of (1,1)-block) = ');\n",
    "% ld = input(' lower index of diag = ');\n",
    "% ud = input(' upper index of diag = ');\n",
    "% trunc = input(' truncate Neumann series at = ');\n",
    "\n",
    "%% Loading matrix data\n",
    "% Matrix A calculation for large K (in this script, n) is time\n",
    "% consuming and so A for different values of rho are calculated and\n",
    "% stored as binary files.\n",
    "dir = '../../data/data.matlab/';\n",
    "beta_opt = 1;\n",
    "nb2 = n/2;\n",
    "i_rng = 1:nb2;\n",
    "sh = 1;\n",
    "if beta_opt == 0\n",
    "    beta = 0;\n",
    "elseif beta_opt == 1\n",
    "    beta = (1 - sqrt(1-rho^2))/rho;\n",
    "elseif beta_opt == 2\n",
    "    beta = (1 - 2*sqrt(1-rho^2))/rho;\n",
    "end\n",
    "file = sprintf('amat_b%1d_n%02d_r%04d.bin',...\n",
    "               beta_opt, log2(n), round(rho*1e4));\n",
    "filename = strcat(dir, file);\n",
    "fid = fopen(filename);\n",
    "A = fread(fid, [n/2, n/2], 'double');\n",
    "fclose(fid);"
   ]
  },
  {
   "cell_type": "code",
   "execution_count": null,
   "metadata": {},
   "outputs": [],
   "source": []
  },
  {
   "cell_type": "code",
   "execution_count": null,
   "metadata": {},
   "outputs": [],
   "source": [
    "\n",
    "\n",
    "%% Construction of preconditioner\n",
    "\n",
    "ind_f = 1:kk;                           % indices for finite block\n",
    "ind_c = kk+1:nb2;                       % complementary indices\n",
    "nf = length(ind_f);\n",
    "nc = length(ind_c);\n",
    "\n",
    "I = eye(nb2);\n",
    "D = diag( i_rng );\n",
    "Dinv = 1./D;\n",
    "L = D - A;\n",
    "\n",
    "As = zeros(size(A));\n",
    "Atmp = A(:, ind_c);\n",
    "sh = -ld+1;\n",
    "dd = zeros(ud-ld+1,1);\n",
    "for k = ld:ud                        % As12 and As22: banded, diagonal\n",
    "    dd(k+sh) = mean(diag(Atmp, -kk+k));\n",
    "    As = As + dd(k+sh)*diag( ones(nb2-abs(k), 1), k);\n",
    "end\n",
    "As(ind_f, ind_f) = triu( A(ind_f, ind_f) );  % As11: upper tri.\n",
    "As(ind_c, ind_f) = 0;                        % As21: zeros\n",
    "N = Dinv*As;\n",
    "\n",
    "Es = I;\n",
    "for k = 1:trunc\n",
    "    Es = Es + N^k;\n",
    "end\n",
    "Lsinv = Es*Dinv;             % Neumann series expansion\n",
    "\n",
    "%% \n",
    "\n",
    "\n",
    "\n",
    "\n",
    "\n",
    "%% Remove path (at end of script/script clean-up)\n",
    "rmpath(added_path);\n"
   ]
  }
 ],
 "metadata": {
  "kernelspec": {
   "display_name": "Matlab",
   "language": "matlab",
   "name": "matlab"
  },
  "language_info": {
   "codemirror_mode": "octave",
   "file_extension": ".m",
   "help_links": [
    {
     "text": "MetaKernel Magics",
     "url": "https://github.com/calysto/metakernel/blob/master/metakernel/magics/README.md"
    }
   ],
   "mimetype": "text/x-octave",
   "name": "matlab",
   "version": "0.15.0"
  }
 },
 "nbformat": 4,
 "nbformat_minor": 2
}
